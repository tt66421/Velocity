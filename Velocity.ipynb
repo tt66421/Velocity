{
 "cells": [
  {
   "cell_type": "code",
   "execution_count": 23,
   "metadata": {
    "collapsed": true
   },
   "outputs": [],
   "source": [
    "import pandas as pd\n",
    "import numpy as np\n",
    "\n",
    "def Velocity(df, tname, xname, yname):\n",
    "    # 速度を格納する空のリスト\n",
    "    vx = []\n",
    "    vy = []\n",
    "    v = []\n",
    "    # 速度を格納していく\n",
    "    for i in range(len(df)-1):\n",
    "        dt = df[tname].iloc[i+1] - df[tname].iloc[i]\n",
    "        dx = df[xname].iloc[i+1] - df[xname].iloc[i]\n",
    "        dy = df[yname].iloc[i+1] - df[yname].iloc[i]\n",
    "        vx.append(dx/dt)\n",
    "        vy.append(dy/dt)\n",
    "        v.append( ((dx**2 + dy**2)**0.5) / dt )\n",
    "    # 最後の時刻は速度を定義できないので、NaN を入れる\n",
    "    vx.append(np.nan)\n",
    "    vy.append(np.nan)\n",
    "    v.append(np.nan)\n",
    "    # 空のデータフレームを作成して、速度データを代入し、それを返す\n",
    "    dfVx = pd.DataFrame({'vx': vx})\n",
    "    dfVy = pd.DataFrame({'vy': vy})\n",
    "    dfV = pd.DataFrame({'v': v})\n",
    "    return dfVx, dfVy, dfV"
   ]
  }
 ],
 "metadata": {
  "anaconda-cloud": {},
  "kernelspec": {
   "display_name": "Python [conda root]",
   "language": "python",
   "name": "conda-root-py"
  },
  "language_info": {
   "codemirror_mode": {
    "name": "ipython",
    "version": 3
   },
   "file_extension": ".py",
   "mimetype": "text/x-python",
   "name": "python",
   "nbconvert_exporter": "python",
   "pygments_lexer": "ipython3",
   "version": "3.5.2"
  }
 },
 "nbformat": 4,
 "nbformat_minor": 1
}
