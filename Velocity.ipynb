{
 "cells": [
  {
   "cell_type": "code",
   "execution_count": null,
   "metadata": {
    "collapsed": true
   },
   "outputs": [],
   "source": [
    "import pandas as pd\n",
    "import numpy as np\n",
    "\n",
    "def Velocity(df):\n",
    "    # 速度を格納する空のリスト\n",
    "    v = []\n",
    "    # 速度を格納していく\n",
    "    for i in range(len(df)-1):\n",
    "        v.append( (df['x'].iloc[i+1] - df['x'].iloc[i]) / (df['t'].iloc[i+1] - df['t'].iloc[i]) )\n",
    "    # 最後の時刻は速度を定義できないので、NaN を入れる\n",
    "    v.append(np.nan)\n",
    "    # 空のデータフレームを作成して、速度データを代入し、それを返す\n",
    "    dfV = pd.DataFrame()\n",
    "    dfV['v'] = v\n",
    "    return dfV"
   ]
  }
 ],
 "metadata": {
  "anaconda-cloud": {},
  "kernelspec": {
   "display_name": "Python [conda root]",
   "language": "python",
   "name": "conda-root-py"
  },
  "language_info": {
   "codemirror_mode": {
    "name": "ipython",
    "version": 3
   },
   "file_extension": ".py",
   "mimetype": "text/x-python",
   "name": "python",
   "nbconvert_exporter": "python",
   "pygments_lexer": "ipython3",
   "version": "3.5.2"
  }
 },
 "nbformat": 4,
 "nbformat_minor": 1
}
